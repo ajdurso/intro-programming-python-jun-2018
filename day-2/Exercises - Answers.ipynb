{
 "cells": [
  {
   "cell_type": "markdown",
   "metadata": {},
   "source": [
    "# Functions with Lists, Tuples, Strings\n",
    "-----"
   ]
  },
  {
   "cell_type": "markdown",
   "metadata": {},
   "source": [
    "### Exercise: List Functions\n",
    "\n",
    "We can quickly identify the smallest or largest items in a list with the [`min()`](https://docs.python.org/3.6/library/functions.html#min) and [`max()`](https://docs.python.org/3.6/library/functions.html#max) functions. Find out how to use these function from the web and then use them to identify the maximum and minumum elements of the list `[-3,-2,-1,0,1,2,3,4,5,6,7]`"
   ]
  },
  {
   "cell_type": "code",
   "execution_count": 1,
   "metadata": {},
   "outputs": [
    {
     "name": "stdout",
     "output_type": "stream",
     "text": [
      "Largest item in my_list is 7\n",
      "Smallest item in my_list is -3\n"
     ]
    }
   ],
   "source": [
    "my_list = [-3,-2,-1,0,1,2,3,4,5,6,7]\n",
    "print(\"Largest item in my_list is\", max(my_list))\n",
    "print(\"Smallest item in my_list is\", min(my_list))"
   ]
  },
  {
   "cell_type": "markdown",
   "metadata": {},
   "source": [
    "### Exercise: Tuple Functions\n",
    "\n",
    "Use `min()` and `max()` functions to identify the maximum and minumum elements of the tuple `{-3,-2,-1,0,1,2,3,4,5,6,7}`"
   ]
  },
  {
   "cell_type": "code",
   "execution_count": 3,
   "metadata": {},
   "outputs": [
    {
     "name": "stdout",
     "output_type": "stream",
     "text": [
      "Largest item in my_tuple is 7\n",
      "Smalles item in my_tuple is -3\n"
     ]
    }
   ],
   "source": [
    "my_tuple = (-3,-2,-1,0,1,2,3,4,5,6,7)\n",
    "print(\"Largest item in my_tuple is\", max(my_tuple))\n",
    "print(\"Smalles item in my_tuple is\", min(my_tuple))"
   ]
  },
  {
   "cell_type": "markdown",
   "metadata": {},
   "source": [
    "### Exercise: List slicing practice\n",
    "\n",
    "Define variable `my_list` as `[1,2,3,5,7,11]`. Is `my_list[3::-1]` the same as `my_list[3:0:-1]`. Why or why not? "
   ]
  },
  {
   "cell_type": "code",
   "execution_count": 4,
   "metadata": {},
   "outputs": [
    {
     "name": "stdout",
     "output_type": "stream",
     "text": [
      "[5, 3, 2, 1]\n",
      "[5, 3, 2]\n"
     ]
    }
   ],
   "source": [
    "my_list=[1,2,3,5,7,11] \n",
    "print(my_list[3::-1]) \n",
    "print(my_list[3:0:-1])"
   ]
  },
  {
   "cell_type": "markdown",
   "metadata": {},
   "source": [
    "When indexing a list with `[start:end:stride]` the end element is not included, however an omitted index is equivalent to the end of the list (positive stride) or the beginning of the list (negative stride)."
   ]
  },
  {
   "cell_type": "markdown",
   "metadata": {},
   "source": [
    "### Exercise: \"in\" operator\n",
    "\n",
    "We can use the \"in\" operator to test if a list contains a particular value. Look up how to use \"in\" operator on the web and determine if the following values in the lists `[1,2,3,4]`, `[0, 2, 3]`, and `[-3,-2,-1,0,1,2,3,4,5,6,7,8,9,10]`.  (You may want to define variables for these lists first.)\n",
    "\n",
    "- integer 1\n",
    "- string \"10.0\"\n",
    "- boolean True\n",
    "- boolean False"
   ]
  },
  {
   "cell_type": "code",
   "execution_count": 6,
   "metadata": {},
   "outputs": [
    {
     "name": "stdout",
     "output_type": "stream",
     "text": [
      "Is 1 in these lists?\n",
      "True\n",
      "False\n",
      "True\n",
      "Is '10.0' in these lists?\n",
      "False\n",
      "False\n",
      "False\n",
      "Is True in these lists?\n",
      "True\n",
      "False\n",
      "True\n",
      "Is False in these lists?\n",
      "False\n",
      "True\n",
      "True\n"
     ]
    }
   ],
   "source": [
    "my_list=[1, 2, 3, 4]\n",
    "easy_list=[0, 2, 3]\n",
    "long_list=[-3,-2,-1,0,1,2,3,4,5,6,7,8,9,10]\n",
    "\n",
    "print(\"Is 1 in these lists?\")\n",
    "print(1 in my_list)\n",
    "print(1 in easy_list)\n",
    "print(1 in long_list)\n",
    "\n",
    "print(\"Is '10.0' in these lists?\")\n",
    "print(\"10.0\" in my_list)\n",
    "print(\"10.0\" in easy_list)\n",
    "print(\"10.0\" in long_list)\n",
    "\n",
    "print(\"Is True in these lists?\")\n",
    "print(True in my_list)\n",
    "print(True in easy_list)\n",
    "print(True in long_list)\n",
    "\n",
    "print(\"Is False in these lists?\")\n",
    "print(False in my_list)\n",
    "print(False in easy_list)\n",
    "print(False in long_list)"
   ]
  },
  {
   "cell_type": "markdown",
   "metadata": {},
   "source": [
    "### Exercise: Quote characters\n",
    "\n",
    "Is there any difference between strings `S1`, `S2`, `S3`, `S4` defined below? Print their lenghts (i.e. the number of characters for a string) with `len()` function to check."
   ]
  },
  {
   "cell_type": "code",
   "execution_count": 7,
   "metadata": {},
   "outputs": [
    {
     "name": "stdout",
     "output_type": "stream",
     "text": [
      "a string\n",
      "a string\n",
      "a string\n",
      "a string\n",
      "\n"
     ]
    }
   ],
   "source": [
    "S1='a string'\n",
    "S2=\"a string\"\n",
    "S3=\"\"\"a string\"\"\"\n",
    "S4=\"\"\"a string\n",
    "\"\"\"\n",
    "print(S1)\n",
    "print(S2)\n",
    "print(S3)\n",
    "print(S4)"
   ]
  },
  {
   "cell_type": "code",
   "execution_count": 8,
   "metadata": {},
   "outputs": [
    {
     "name": "stdout",
     "output_type": "stream",
     "text": [
      "8\n",
      "8\n",
      "8\n",
      "9\n"
     ]
    }
   ],
   "source": [
    "print(len(S1))\n",
    "print(len(S2))\n",
    "print(len(S3))\n",
    "print(len(S4))"
   ]
  },
  {
   "cell_type": "markdown",
   "metadata": {
    "collapsed": true
   },
   "source": [
    "### Exercise: sort and reverse\n",
    "\n",
    "On the web, search for sort and reverse methods for lists. Apply these methods to list `[9.02,20.4,-4,67,2,34,34.1,0]`\n",
    "\n",
    "- First, order the elements in the list from the smallest to the largest using sort methods\n",
    "- Second, use the reverse method to order the list from the largest to the smallest "
   ]
  },
  {
   "cell_type": "code",
   "execution_count": 10,
   "metadata": {},
   "outputs": [
    {
     "data": {
      "text/plain": [
       "[-4, 0, 2, 9.02, 20.4, 34, 34.1, 67]"
      ]
     },
     "execution_count": 10,
     "metadata": {},
     "output_type": "execute_result"
    }
   ],
   "source": [
    "my_list=[9.02,20.4,-4,67,2,34,34.1,0]\n",
    "my_list.sort()\n",
    "my_list"
   ]
  },
  {
   "cell_type": "code",
   "execution_count": 11,
   "metadata": {},
   "outputs": [
    {
     "data": {
      "text/plain": [
       "[67, 34.1, 34, 20.4, 9.02, 2, 0, -4]"
      ]
     },
     "execution_count": 11,
     "metadata": {},
     "output_type": "execute_result"
    }
   ],
   "source": [
    "my_list.reverse()\n",
    "my_list"
   ]
  },
  {
   "cell_type": "markdown",
   "metadata": {},
   "source": [
    "Note that the `sort` and `reverse` methods of a list object modify its order permanently. Use the `sorted()` and `reversed()` functions if you don't want to modify the list."
   ]
  },
  {
   "cell_type": "markdown",
   "metadata": {},
   "source": [
    "### Exercise: Reverse Sort\n",
    "\n",
    "Use only the sort method get the list `[9.02,20.4,-4,67,2,34,34.1,0]` sorted from the largest to the smallest. (Tip: sort method accepts a reverse parameter)"
   ]
  },
  {
   "cell_type": "code",
   "execution_count": 12,
   "metadata": {},
   "outputs": [
    {
     "name": "stdout",
     "output_type": "stream",
     "text": [
      "[9.02, 20.4, -4, 67, 2, 34, 34.1, 0]\n"
     ]
    },
    {
     "data": {
      "text/plain": [
       "[67, 34.1, 34, 20.4, 9.02, 2, 0, -4]"
      ]
     },
     "execution_count": 12,
     "metadata": {},
     "output_type": "execute_result"
    }
   ],
   "source": [
    "my_list=[9.02,20.4,-4,67,2,34,34.1,0]\n",
    "print(my_list)\n",
    "my_list.sort(reverse=True)\n",
    "my_list"
   ]
  },
  {
   "cell_type": "markdown",
   "metadata": {},
   "source": [
    "### Exercise: Sorting Tuples\n",
    "\n",
    "Can you apply the same sort and reverse methods to the tuple `(9.02,20.4,-4,67,2,34,34.1,0)`? Trying is the best way to answer!"
   ]
  },
  {
   "cell_type": "code",
   "execution_count": 14,
   "metadata": {},
   "outputs": [
    {
     "name": "stdout",
     "output_type": "stream",
     "text": [
      "(9.02, 20.4, -4, 67, 2, 34, 34.1, 0) <class 'tuple'>\n"
     ]
    }
   ],
   "source": [
    "my_tuple = (9.02, 20.4, -4, 67, 2, 34, 34.1, 0)\n",
    "print(my_tuple, type(my_tuple))"
   ]
  },
  {
   "cell_type": "code",
   "execution_count": 15,
   "metadata": {},
   "outputs": [
    {
     "ename": "AttributeError",
     "evalue": "'tuple' object has no attribute 'sort'",
     "output_type": "error",
     "traceback": [
      "\u001b[1;31m---------------------------------------------------------------------------\u001b[0m",
      "\u001b[1;31mAttributeError\u001b[0m                            Traceback (most recent call last)",
      "\u001b[1;32m<ipython-input-15-bce961af8708>\u001b[0m in \u001b[0;36m<module>\u001b[1;34m()\u001b[0m\n\u001b[1;32m----> 1\u001b[1;33m \u001b[0mmy_tuple\u001b[0m\u001b[1;33m.\u001b[0m\u001b[0msort\u001b[0m\u001b[1;33m(\u001b[0m\u001b[1;33m)\u001b[0m\u001b[1;33m\u001b[0m\u001b[0m\n\u001b[0m",
      "\u001b[1;31mAttributeError\u001b[0m: 'tuple' object has no attribute 'sort'"
     ]
    }
   ],
   "source": [
    "my_tuple.sort()"
   ]
  },
  {
   "cell_type": "markdown",
   "metadata": {},
   "source": [
    "Tuple type is unhashable (i.e. cannot be changed) so has no sort or reverse methods."
   ]
  },
  {
   "cell_type": "markdown",
   "metadata": {},
   "source": [
    "### Challenging Exercise: String Functions\n",
    "\n",
    "Look up the [string formatting syntax](https://docs.python.org/3.6/library/string.html#format-string-syntax).  \n",
    "\n",
    "Define variable `errorrate` as .020456.  Print `val` as part of a string with two decimal digits and a percentage using the string formatting syntax so that the output looks like:\n",
    "\n",
    "`Error rate: 2.05%`"
   ]
  },
  {
   "cell_type": "code",
   "execution_count": 16,
   "metadata": {},
   "outputs": [
    {
     "name": "stdout",
     "output_type": "stream",
     "text": [
      "Error rate: 2.05%\n"
     ]
    }
   ],
   "source": [
    "errorrate=.020456\n",
    "print('Error rate: {:.2%}'.format(errorrate))"
   ]
  },
  {
   "cell_type": "markdown",
   "metadata": {},
   "source": [
    "# If/else\n",
    "----"
   ]
  },
  {
   "cell_type": "markdown",
   "metadata": {},
   "source": [
    "### Exercise: if/elif/else basics\n",
    "\n",
    "Write a small python code where you check if a variable with a numeric value is negative, positive, or zero and report solution by print.  "
   ]
  },
  {
   "cell_type": "code",
   "execution_count": 17,
   "metadata": {},
   "outputs": [
    {
     "name": "stdout",
     "output_type": "stream",
     "text": [
      "8 is postive\n"
     ]
    }
   ],
   "source": [
    "num = 8\n",
    "\n",
    "if num < 0:\n",
    "    print(num, \"is negative\")\n",
    "elif num > 0:\n",
    "    print(num, \"is positive\")\n",
    "else:\n",
    "    print('zero')"
   ]
  },
  {
   "cell_type": "markdown",
   "metadata": {},
   "source": [
    "# Loops\n",
    "----"
   ]
  },
  {
   "cell_type": "markdown",
   "metadata": {},
   "source": [
    "### Exercise: while loop\n",
    "\n",
    "Use while loop to print integers between 5 and 12, excluding limits (i.e. 5 and 12)"
   ]
  },
  {
   "cell_type": "code",
   "execution_count": 19,
   "metadata": {},
   "outputs": [
    {
     "name": "stdout",
     "output_type": "stream",
     "text": [
      "6\n",
      "7\n",
      "8\n",
      "9\n",
      "10\n",
      "11\n"
     ]
    }
   ],
   "source": [
    "t = 6\n",
    "while 5 < t <12:\n",
    "    print(t)\n",
    "    t += 1"
   ]
  },
  {
   "cell_type": "markdown",
   "metadata": {},
   "source": [
    "### Challenging Exercise: while loop factorial\n",
    "\n",
    "Using a `while` loop, write a short python script to compute 34! (the factorial of 34: n! = `[n*(n-1)*(n-2)*...*2]`)"
   ]
  },
  {
   "cell_type": "code",
   "execution_count": 21,
   "metadata": {},
   "outputs": [
    {
     "name": "stdout",
     "output_type": "stream",
     "text": [
      "295232799039604140847618609643520000000\n"
     ]
    }
   ],
   "source": [
    "t = 2\n",
    "n_factorial = 1\n",
    "while t <= 34:\n",
    "    n_factorial = n_factorial*t\n",
    "    t+=1\n",
    "\n",
    "print(n_factorial)"
   ]
  },
  {
   "cell_type": "markdown",
   "metadata": {},
   "source": [
    "### Challenging Exercise:  for loop factorial\n",
    "\n",
    "Write the same script (i.e. calculating 34!) using a `for` loop and the `range` function.\n",
    "\n",
    "- Search the web for range function and its usage\n",
    "- Test your understanding by constructing `for` loops to print the values in `range(7)`, `range(1,7)`, `range(1,7,2)`\n",
    "- Construct the `for` loop with appropriate use of the `range` function to calculate n!"
   ]
  },
  {
   "cell_type": "code",
   "execution_count": 22,
   "metadata": {},
   "outputs": [
    {
     "name": "stdout",
     "output_type": "stream",
     "text": [
      "0\n",
      "1\n",
      "2\n",
      "3\n",
      "4\n",
      "5\n",
      "6\n"
     ]
    }
   ],
   "source": [
    "for t in range(7):\n",
    "    print(t)"
   ]
  },
  {
   "cell_type": "code",
   "execution_count": 23,
   "metadata": {},
   "outputs": [
    {
     "name": "stdout",
     "output_type": "stream",
     "text": [
      "1\n",
      "2\n",
      "3\n",
      "4\n",
      "5\n",
      "6\n"
     ]
    }
   ],
   "source": [
    "for t in range(1,7):\n",
    "    print(t)"
   ]
  },
  {
   "cell_type": "code",
   "execution_count": 24,
   "metadata": {},
   "outputs": [
    {
     "name": "stdout",
     "output_type": "stream",
     "text": [
      "1\n",
      "3\n",
      "5\n"
     ]
    }
   ],
   "source": [
    "for t in range(1,7,2):\n",
    "    print(t)"
   ]
  },
  {
   "cell_type": "code",
   "execution_count": 26,
   "metadata": {},
   "outputs": [
    {
     "name": "stdout",
     "output_type": "stream",
     "text": [
      "295232799039604140847618609643520000000\n"
     ]
    }
   ],
   "source": [
    "n_factorial = 1\n",
    "for t in range(1,35):\n",
    "    n_factorial = n_factorial*t\n",
    "    \n",
    "print(n_factorial)"
   ]
  },
  {
   "cell_type": "markdown",
   "metadata": {},
   "source": [
    "### Exercise: More looping\n",
    "\n",
    "Write a script that divides 50 by each integer between 1 and 20 and print results.  Do this using a `while` loop, then a `for` loop.  For the `for` loop, you may want to use the [`range`](https://docs.python.org/3.6/library/functions.html#func-range) function."
   ]
  },
  {
   "cell_type": "code",
   "execution_count": 28,
   "metadata": {},
   "outputs": [
    {
     "name": "stdout",
     "output_type": "stream",
     "text": [
      "50.0\n",
      "25.0\n",
      "16.666666666666668\n",
      "12.5\n",
      "10.0\n",
      "8.333333333333334\n",
      "7.142857142857143\n",
      "6.25\n",
      "5.555555555555555\n",
      "5.0\n",
      "4.545454545454546\n",
      "4.166666666666667\n",
      "3.8461538461538463\n",
      "3.5714285714285716\n",
      "3.3333333333333335\n",
      "3.125\n",
      "2.9411764705882355\n",
      "2.7777777777777777\n",
      "2.6315789473684212\n",
      "2.5\n"
     ]
    }
   ],
   "source": [
    "# while loop\n",
    "t = 1\n",
    "while t <= 20:\n",
    "    print(50/t)\n",
    "    t+=1"
   ]
  },
  {
   "cell_type": "code",
   "execution_count": 29,
   "metadata": {},
   "outputs": [
    {
     "name": "stdout",
     "output_type": "stream",
     "text": [
      "50.0\n",
      "25.0\n",
      "16.666666666666668\n",
      "12.5\n",
      "10.0\n",
      "8.333333333333334\n",
      "7.142857142857143\n",
      "6.25\n",
      "5.555555555555555\n",
      "5.0\n",
      "4.545454545454546\n",
      "4.166666666666667\n",
      "3.8461538461538463\n",
      "3.5714285714285716\n",
      "3.3333333333333335\n",
      "3.125\n",
      "2.9411764705882355\n",
      "2.7777777777777777\n",
      "2.6315789473684212\n",
      "2.5\n"
     ]
    }
   ],
   "source": [
    "# for loop\n",
    "for i in range(1,21):\n",
    "    print(50/i)"
   ]
  },
  {
   "cell_type": "markdown",
   "metadata": {},
   "source": [
    "### Challenging Exercise: zip\n",
    "\n",
    "You can loop over more than one counter variable in a single `for` loop. Search the web on how to do this. Now, loop over the elements of tuple `(1,2,3,4)` and lists `['a','b','c',999]` and `[2,4,16,256]` simultaneously by zipping them (remember the `zip` function!)"
   ]
  },
  {
   "cell_type": "code",
   "execution_count": 30,
   "metadata": {},
   "outputs": [
    {
     "name": "stdout",
     "output_type": "stream",
     "text": [
      "1 a 2\n",
      "2 b 4\n",
      "3 c 16\n",
      "4 999 256\n"
     ]
    }
   ],
   "source": [
    "a = (1,2,3,4)\n",
    "b = ['a','b','c',999]\n",
    "c = [2,4,16,256,88]\n",
    "\n",
    "for i,j,k in zip(a,b,c): \n",
    "    print(i,j,k)"
   ]
  },
  {
   "cell_type": "markdown",
   "metadata": {},
   "source": [
    "# Putting the Pieces Together\n",
    "----"
   ]
  },
  {
   "cell_type": "markdown",
   "metadata": {},
   "source": [
    "### Exercise: Print primes\n",
    "\n",
    "Print prime numbers between 2 and 100.\n",
    "\n",
    "First do this with `while` loops, then with `for` loops. You'll also need conditional statements.\n",
    "\n",
    "Hint: you may want to use [`break`](https://docs.python.org/3.6/tutorial/controlflow.html#break-and-continue-statements-and-else-clauses-on-loops)."
   ]
  },
  {
   "cell_type": "code",
   "execution_count": 31,
   "metadata": {},
   "outputs": [
    {
     "name": "stdout",
     "output_type": "stream",
     "text": [
      "2\n",
      "3\n",
      "5\n",
      "7\n",
      "11\n",
      "13\n",
      "17\n",
      "19\n",
      "23\n",
      "29\n",
      "31\n",
      "37\n",
      "41\n",
      "43\n",
      "47\n",
      "53\n",
      "59\n",
      "61\n",
      "67\n",
      "71\n",
      "73\n",
      "79\n",
      "83\n",
      "89\n",
      "97\n"
     ]
    }
   ],
   "source": [
    "n=100 # not necessary to define 100 as a variable, but it makes it easy to update code for another number\n",
    "i = 2\n",
    "while i<=n:\n",
    "    prime=True\n",
    "    j=2\n",
    "    while 2<=j<i:\n",
    "        if(i%j == 0):\n",
    "            prime=False\n",
    "            break\n",
    "        j+=1\n",
    "    if(prime==True):\n",
    "        print(i)\n",
    "    i+=1"
   ]
  },
  {
   "cell_type": "code",
   "execution_count": 32,
   "metadata": {},
   "outputs": [
    {
     "name": "stdout",
     "output_type": "stream",
     "text": [
      "2\n",
      "3\n",
      "5\n",
      "7\n",
      "11\n",
      "13\n",
      "17\n",
      "19\n",
      "23\n",
      "29\n",
      "31\n",
      "37\n",
      "41\n",
      "43\n",
      "47\n",
      "53\n",
      "59\n",
      "61\n",
      "67\n",
      "71\n",
      "73\n",
      "79\n",
      "83\n",
      "89\n",
      "97\n"
     ]
    }
   ],
   "source": [
    "n=100 # not necessary to define 100 as a variable, but it makes it easy to update code for another number\n",
    "for i in range(2, n+1):\n",
    "    for j in range(2, i):\n",
    "        if(i%j==0):\n",
    "            break\n",
    "    else:\n",
    "        print(i)"
   ]
  },
  {
   "cell_type": "markdown",
   "metadata": {},
   "source": [
    "# Dictionaries\n",
    "-----"
   ]
  },
  {
   "cell_type": "markdown",
   "metadata": {},
   "source": [
    "### Exercise: Define a dictionary\n",
    "\n",
    "Define a dictionary called `colors` where values Red Blue Green Purple Yellow White Magenta and Orange are represented by their initial letters as keys. Print the dictionary and the dictionary's length."
   ]
  },
  {
   "cell_type": "code",
   "execution_count": 33,
   "metadata": {},
   "outputs": [
    {
     "name": "stdout",
     "output_type": "stream",
     "text": [
      "{'R': 'Red', 'B': 'Blue', 'G': 'Green', 'P': 'Purple', 'Y': 'Yellow', 'W': 'White', 'O': 'Orange'}\n"
     ]
    },
    {
     "data": {
      "text/plain": [
       "7"
      ]
     },
     "execution_count": 33,
     "metadata": {},
     "output_type": "execute_result"
    }
   ],
   "source": [
    "colors = {\n",
    "    'R': 'Red',\n",
    "    'B': 'Blue',\n",
    "    'G': 'Green',\n",
    "    'P': 'Purple',\n",
    "    'Y': 'Yellow',\n",
    "    'W': 'White',\n",
    "    'O': 'Orange',\n",
    "}\n",
    "print(colors)\n",
    "len(colors)"
   ]
  },
  {
   "cell_type": "markdown",
   "metadata": {},
   "source": [
    "### Exercise: Add a value\n",
    "\n",
    "Add Black to the colors dictionary with the same method as described before and print the dictionary and it's length."
   ]
  },
  {
   "cell_type": "code",
   "execution_count": 34,
   "metadata": {},
   "outputs": [
    {
     "name": "stdout",
     "output_type": "stream",
     "text": [
      "{'R': 'Red', 'B': 'Black', 'G': 'Green', 'P': 'Purple', 'Y': 'Yellow', 'W': 'White', 'O': 'Orange'}\n"
     ]
    },
    {
     "data": {
      "text/plain": [
       "7"
      ]
     },
     "execution_count": 34,
     "metadata": {},
     "output_type": "execute_result"
    }
   ],
   "source": [
    "colors['B']='Black'\n",
    "print(colors)\n",
    "len(colors)"
   ]
  },
  {
   "cell_type": "markdown",
   "metadata": {},
   "source": [
    "**What happened?** We can only have one value per key. We overwrote the `B` key with a new value. If you want to store more than one value for a given key, you have to put them in a list."
   ]
  },
  {
   "cell_type": "markdown",
   "metadata": {},
   "source": [
    "### Exercise: Looping with dictionaries\n",
    "\n",
    "Create a dictionary with at least 5 entries.  Use a `for` loop to loop through the dictionary (e.g. `for i in my_dict:`).  Print the value of the loop variable (`i`).  What gets printed? "
   ]
  },
  {
   "cell_type": "code",
   "execution_count": 35,
   "metadata": {},
   "outputs": [
    {
     "name": "stdout",
     "output_type": "stream",
     "text": [
      "horse\n",
      "dog\n",
      "fish\n",
      "bird\n",
      "cat\n",
      "monkey\n"
     ]
    }
   ],
   "source": [
    "my_dict={'horse':1, 'dog':2, 'fish':3, 'bird':4, 'cat':5, 'monkey':6}\n",
    "for i in my_dict:\n",
    "    print(i)"
   ]
  },
  {
   "cell_type": "markdown",
   "metadata": {},
   "source": [
    "If you use a `for` loop with a dictionary, the counter variable is set to each key. In this case, they printed in order, but order is not guaranteed and should be considered random."
   ]
  },
  {
   "cell_type": "markdown",
   "metadata": {},
   "source": [
    "### Exercise: Deleting dictionary entries\n",
    "\n",
    "To delete an element from dictionary `del` is used. Search the internet to find the usage of `del`. Delete the value with the fish key from the dictionary `{'horse':1, 'dog':2, 'fish':3, 'bird':4, 'cat':5, 'monkey':6}` and print the new dictionary"
   ]
  },
  {
   "cell_type": "code",
   "execution_count": 36,
   "metadata": {},
   "outputs": [
    {
     "name": "stdout",
     "output_type": "stream",
     "text": [
      "{'horse': 1, 'dog': 2, 'bird': 4, 'cat': 5, 'monkey': 6}\n"
     ]
    }
   ],
   "source": [
    "dictionary_01={'horse':1, 'dog':2, 'fish':3, 'bird':4, 'cat':5, 'monkey':6}\n",
    "\n",
    "del dictionary_01['fish']\n",
    "print(dictionary_01)"
   ]
  },
  {
   "cell_type": "markdown",
   "metadata": {},
   "source": [
    "### Exercise: Copying and Updating\n",
    "\n",
    "Search the internet for available methods of dictionaries. Then:\n",
    "\n",
    "- Copy the dictionary  `{'horse':1, 'dog':2, 'fish':3, 'bird':4, 'cat':5, 'monkey':6}` to another dictionary using `copy` method and print the result\n",
    "- Add `{'eagle':7,'zebra':8}` to the previous dictionary using `update` method and print the result\n",
    "- Empty the dictionary using `clear` method and print the result"
   ]
  },
  {
   "cell_type": "code",
   "execution_count": 37,
   "metadata": {},
   "outputs": [
    {
     "name": "stdout",
     "output_type": "stream",
     "text": [
      "{'horse': 1, 'dog': 2, 'fish': 3, 'bird': 4, 'cat': 5, 'monkey': 6}\n"
     ]
    }
   ],
   "source": [
    "animals={'horse':1, 'dog':2, 'fish':3, 'bird':4, 'cat':5, 'monkey':6}\n",
    "animals_copy=animals.copy()\n",
    "print(animals_copy)"
   ]
  },
  {
   "cell_type": "code",
   "execution_count": 38,
   "metadata": {},
   "outputs": [
    {
     "name": "stdout",
     "output_type": "stream",
     "text": [
      "{'horse': 1, 'dog': 2, 'fish': 3, 'bird': 4, 'cat': 5, 'monkey': 6, 'eagle': 7, 'zebra': 8}\n"
     ]
    }
   ],
   "source": [
    "animals_delta={'eagle':7,'zebra':8}\n",
    "animals.update(animals_delta)\n",
    "print(animals)"
   ]
  },
  {
   "cell_type": "code",
   "execution_count": 39,
   "metadata": {},
   "outputs": [
    {
     "name": "stdout",
     "output_type": "stream",
     "text": [
      "{}\n"
     ]
    }
   ],
   "source": [
    "animals.clear()\n",
    "print(animals)"
   ]
  },
  {
   "cell_type": "markdown",
   "metadata": {},
   "source": [
    "# More Challenges\n",
    "----"
   ]
  },
  {
   "cell_type": "markdown",
   "metadata": {},
   "source": [
    "### Challenging Exercise: Temperature Conversion\n",
    "\n",
    "Write a python code that can convert between celsius & fahrenheit. Define the temperature as a string such as '102.4F' or '23C'. If the initial temperature is not properly defined print 'Error in entered temperature'. \n",
    "\n",
    "The conversion equation is: F = C * (9/5) + 32\n",
    "\n",
    "Expected output should look like the following depending on your initial entry: \n",
    "\n",
    "60C is 140.0 in Fahrenheit\n",
    "\n",
    "24F is -4.444 in Celsius "
   ]
  },
  {
   "cell_type": "code",
   "execution_count": 40,
   "metadata": {},
   "outputs": [
    {
     "name": "stdout",
     "output_type": "stream",
     "text": [
      "The temperature 60C is 140.0 in Fahrenheit\n"
     ]
    }
   ],
   "source": [
    "temp = '60C'\n",
    "degree = float(temp[:-1])\n",
    "i_convention = temp[-1]\n",
    "\n",
    "if i_convention == \"C\":\n",
    "  result = ((9 * degree) / 5) + 32\n",
    "  o_convention = \"Fahrenheit\"\n",
    "elif i_convention == \"F\":\n",
    "  result = (degree - 32) * 5 / 9\n",
    "  o_convention = \"Celsius\"\n",
    "else:\n",
    "  print(\"Input proper convention.\")\n",
    "  quit()\n",
    "print(\"The temperature\", temp, \"is\", result, \"in\", o_convention,)"
   ]
  },
  {
   "cell_type": "markdown",
   "metadata": {},
   "source": [
    "### Challenging Exercise: Fibonacci\n",
    "\n",
    "Write a python code to print out the numbers in [Fibonacci](https://en.wikipedia.org/wiki/Fibonacci_number) series between 0 to 100.  Try to use as few lines of code as possible."
   ]
  },
  {
   "cell_type": "code",
   "execution_count": 41,
   "metadata": {},
   "outputs": [
    {
     "name": "stdout",
     "output_type": "stream",
     "text": [
      "1\n",
      "1\n",
      "2\n",
      "3\n",
      "5\n",
      "8\n",
      "13\n",
      "21\n",
      "34\n",
      "55\n",
      "89\n"
     ]
    }
   ],
   "source": [
    "i,j=0,1\n",
    "\n",
    "while j<=100:\n",
    "    print(j)\n",
    "    i,j = j,i+j"
   ]
  },
  {
   "cell_type": "markdown",
   "metadata": {},
   "source": [
    "## Exercise: Write a Function: Absolute Difference\n",
    "\n",
    "Write a function that returns the absolute value of one number minus a second number (look up the function for absolute value if needed).  Call it twice from another Jupyter cell, switching the order of the two numbers that you pass to the function, and write an if/else statement that prints out if the two values returned by the function are equal.\n"
   ]
  },
  {
   "cell_type": "code",
   "execution_count": 42,
   "metadata": {
    "collapsed": true
   },
   "outputs": [],
   "source": [
    "def num_between(a,b):\n",
    "    difference = abs(a - b)    \n",
    "    return(difference)"
   ]
  },
  {
   "cell_type": "code",
   "execution_count": 43,
   "metadata": {},
   "outputs": [
    {
     "name": "stdout",
     "output_type": "stream",
     "text": [
      "the function is correct, the values are equal\n"
     ]
    }
   ],
   "source": [
    "a = 3\n",
    "b = 7\n",
    "diff_ab = num_between(a,b)\n",
    "diff_ba = num_between(b,a)\n",
    "if diff_ab == diff_ba:\n",
    "    print(\"the function is correct, the values are equal\")\n",
    "else:\n",
    "    print(\"the function is in error, the values aren't equal\")"
   ]
  },
  {
   "cell_type": "markdown",
   "metadata": {},
   "source": [
    "## Exercise: Write a Function: Capitalize\n",
    "\n",
    "Write a function that takes a list of six words and prints each word, but with every other word in all caps.  "
   ]
  },
  {
   "cell_type": "code",
   "execution_count": 44,
   "metadata": {
    "collapsed": true
   },
   "outputs": [],
   "source": [
    "def cap_every_other(my_list):\n",
    "    counter=0\n",
    "    for word in my_list:\n",
    "        if counter%2==0:\n",
    "            print(word.upper())\n",
    "        else:\n",
    "            print(word)\n",
    "        counter = counter+1\n",
    "    return"
   ]
  },
  {
   "cell_type": "code",
   "execution_count": 45,
   "metadata": {},
   "outputs": [
    {
     "name": "stdout",
     "output_type": "stream",
     "text": [
      "YELLOW\n",
      "green\n",
      "BLUE\n",
      "orange\n",
      "WHITE\n",
      "black\n"
     ]
    }
   ],
   "source": [
    "words = (\"yellow\", \"green\", \"blue\", \"orange\", \"white\", \"black\")\n",
    "cap_every_other(words)"
   ]
  },
  {
   "cell_type": "markdown",
   "metadata": {},
   "source": [
    "## Exercise: Modify Function\n",
    "\n",
    "Copy your code for the above exercise and modify it so the function returns a new list (don't modify the supplied list).  Save the output from the function into a new list variable which has every other word capitalized."
   ]
  },
  {
   "cell_type": "code",
   "execution_count": 46,
   "metadata": {
    "collapsed": true
   },
   "outputs": [],
   "source": [
    "def cap_every_other_new(my_list):\n",
    "    new_list=[]\n",
    "    counter=0\n",
    "    for word in my_list:\n",
    "        if counter%2==0:\n",
    "            new_list.append(word.upper())\n",
    "        else:\n",
    "            new_list.append(word)\n",
    "        counter = counter+1\n",
    "    return(new_list)"
   ]
  },
  {
   "cell_type": "code",
   "execution_count": 47,
   "metadata": {},
   "outputs": [
    {
     "name": "stdout",
     "output_type": "stream",
     "text": [
      "['JANUARY', 'February', 'APRIL', 'May', 'JUNE', 'July']\n",
      "['January', 'February', 'April', 'May', 'June', 'July']\n"
     ]
    }
   ],
   "source": [
    "words = [\"January\", \"February\", \"April\", \"May\", \"June\", \"July\"]\n",
    "better_words = cap_every_other_new(words)\n",
    "print(better_words)\n",
    "print(words) ## should be unchanged"
   ]
  },
  {
   "cell_type": "markdown",
   "metadata": {},
   "source": [
    "## Exercise: Write a Function: Remove Long Words\n",
    "\n",
    "Write a function to remove every word that has more than `numchar` (a function argument) letters from a supplied list of words.  Set the default value for `numchar` to 4.  Return the values that were removed as a list.  Call the function with and without specifying the value of `numchar`.\n",
    "\n",
    "If you need more information on default values and optional arguments, see http://www.diveintopython.net/power_of_introspection/optional_arguments.html"
   ]
  },
  {
   "cell_type": "code",
   "execution_count": 48,
   "metadata": {
    "collapsed": true
   },
   "outputs": [],
   "source": [
    "def rem_big_words(my_list, numchar=4):\n",
    "    remove_these=[]\n",
    "    for word in my_list:\n",
    "        if (len(word)> numchar):\n",
    "            remove_these.append(word)\n",
    "    # remove in a separate loop, because you'll get errors if you change my_list while iterating through it\n",
    "    for word in remove_these: \n",
    "        my_list.remove(word)\n",
    "    return(remove_these)"
   ]
  },
  {
   "cell_type": "code",
   "execution_count": 49,
   "metadata": {},
   "outputs": [
    {
     "name": "stdout",
     "output_type": "stream",
     "text": [
      "['May', 'June', 'July']\n",
      "['January', 'February', 'March', 'April', 'August', 'September', 'October', 'November', 'December']\n",
      "['January', 'February', 'August', 'September', 'October', 'November', 'December']\n"
     ]
    }
   ],
   "source": [
    "months = [\"January\", \"February\", \"March\",\"April\", \"May\", \"June\", \"July\",\n",
    "          \"August\", \"September\",\"October\",\"November\",\"December\"]\n",
    "long_months=rem_big_words(months)\n",
    "print(months)\n",
    "print(long_months)\n",
    "print(rem_big_words(long_months, numchar=5))"
   ]
  },
  {
   "cell_type": "markdown",
   "metadata": {},
   "source": [
    "## Exercise: Write a Function: Unique List Elements\n",
    "\n",
    "Write a Python function that takes a list and returns a new list with unique elements of the first list."
   ]
  },
  {
   "cell_type": "code",
   "execution_count": 54,
   "metadata": {
    "collapsed": true
   },
   "outputs": [],
   "source": [
    "def uniq_list(my_list):\n",
    "    # The simplest way to do this is simply `return set(my_list)`.\n",
    "\n",
    "    # However, you can also iterate over each element of `my_list`,\n",
    "    # using the `in` keyword to test if `unique_list` already contains it.\n",
    "    \n",
    "    unique_list = []\n",
    "    for thing in my_list:\n",
    "        if thing not in unique_list:\n",
    "            unique_list.append(thing)\n",
    "    return unique_list"
   ]
  },
  {
   "cell_type": "code",
   "execution_count": 55,
   "metadata": {},
   "outputs": [
    {
     "name": "stdout",
     "output_type": "stream",
     "text": [
      "[1, 3, 4, 6, 5, 2]\n"
     ]
    }
   ],
   "source": [
    "dup_list = [1,1,3,4,4,6,1,5,1,4,4,2]\n",
    "unique = uniq_list(dup_list)\n",
    "print(unique)"
   ]
  },
  {
   "cell_type": "markdown",
   "metadata": {},
   "source": [
    "## Exercise: Write a Function: Reverse a String\n",
    "\n",
    "Write a function to reverse a string (don't just use the built-in function)."
   ]
  },
  {
   "cell_type": "code",
   "execution_count": 56,
   "metadata": {
    "collapsed": true
   },
   "outputs": [],
   "source": [
    "def string_reverse(stringy):\n",
    "    reversed_string = ''\n",
    "    index = len(stringy)\n",
    "    while index > 0:\n",
    "        reversed_string += stringy[ index - 1 ]\n",
    "        index = index - 1\n",
    "    return reversed_string"
   ]
  },
  {
   "cell_type": "code",
   "execution_count": 57,
   "metadata": {},
   "outputs": [
    {
     "name": "stdout",
     "output_type": "stream",
     "text": [
      "annaJ\n"
     ]
    }
   ],
   "source": [
    "print(string_reverse('Janna'))"
   ]
  },
  {
   "cell_type": "markdown",
   "metadata": {},
   "source": [
    "## Exercise: Write a Function: Squares\n",
    "\n",
    "Write a function to create and print a list where the values are square of numbers between 1 and 15"
   ]
  },
  {
   "cell_type": "code",
   "execution_count": 58,
   "metadata": {},
   "outputs": [
    {
     "name": "stdout",
     "output_type": "stream",
     "text": [
      "[1, 4, 9, 16, 25, 36, 49, 64, 81, 100, 121, 144, 169, 196, 225]\n"
     ]
    }
   ],
   "source": [
    "def printValues():\n",
    "    squares_list = list()\n",
    "    for num in range(1,16):\n",
    "        squares_list.append(num**2)\n",
    "    print(squares_list)\n",
    "\n",
    "printValues()"
   ]
  },
  {
   "cell_type": "code",
   "execution_count": null,
   "metadata": {
    "collapsed": true
   },
   "outputs": [],
   "source": []
  }
 ],
 "metadata": {
  "anaconda-cloud": {},
  "kernelspec": {
   "display_name": "Python 3",
   "language": "python",
   "name": "python3"
  },
  "language_info": {
   "codemirror_mode": {
    "name": "ipython",
    "version": 3
   },
   "file_extension": ".py",
   "mimetype": "text/x-python",
   "name": "python",
   "nbconvert_exporter": "python",
   "pygments_lexer": "ipython3",
   "version": "3.6.3"
  }
 },
 "nbformat": 4,
 "nbformat_minor": 1
}
